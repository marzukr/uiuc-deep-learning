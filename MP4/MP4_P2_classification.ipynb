{
 "cells": [
  {
   "cell_type": "code",
   "execution_count": 1,
   "metadata": {
    "colab": {
     "base_uri": "https://localhost:8080/"
    },
    "id": "7V86g5RK4goq",
    "outputId": "465dbd32-3e83-403b-e7e8-c4be40f9f986"
   },
   "outputs": [
    {
     "name": "stdout",
     "output_type": "stream",
     "text": [
      "Drive already mounted at /content/drive; to attempt to forcibly remount, call drive.mount(\"/content/drive\", force_remount=True).\n"
     ]
    }
   ],
   "source": [
    "from google.colab import drive\n",
    "drive.mount('/content/drive')"
   ]
  },
  {
   "cell_type": "code",
   "execution_count": 2,
   "metadata": {
    "colab": {
     "base_uri": "https://localhost:8080/"
    },
    "id": "yYi5wjTX4dHv",
    "outputId": "a896606b-064d-4f44-eaa0-e14d451d8538"
   },
   "outputs": [
    {
     "name": "stdout",
     "output_type": "stream",
     "text": [
      "/content/drive/My Drive\n",
      "/content/drive/My Drive/cs498 DL/Assignment4\n"
     ]
    }
   ],
   "source": [
    "%cd /content/drive/My\\ Drive/\n",
    "%cd cs498\\ DL/Assignment4"
   ]
  },
  {
   "cell_type": "code",
   "execution_count": 3,
   "metadata": {
    "colab": {
     "base_uri": "https://localhost:8080/"
    },
    "id": "K_U5ASeH5LZu",
    "outputId": "897d6a27-c1c9-470b-ce05-1f58b6af1981"
   },
   "outputs": [
    {
     "name": "stdout",
     "output_type": "stream",
     "text": [
      "Requirement already satisfied: Unidecode in /usr/local/lib/python3.6/dist-packages (1.1.1)\n"
     ]
    }
   ],
   "source": [
    "!pip install Unidecode"
   ]
  },
  {
   "cell_type": "code",
   "execution_count": 4,
   "metadata": {
    "id": "k9tRCvJirt3e"
   },
   "outputs": [],
   "source": [
    "import os\n",
    "import time\n",
    "import math\n",
    "import glob\n",
    "import string\n",
    "import random \n",
    "\n",
    "import torch\n",
    "import torch.nn as nn\n",
    "\n",
    "from rnn.helpers import time_since\n",
    "\n",
    "%matplotlib inline"
   ]
  },
  {
   "cell_type": "code",
   "execution_count": 5,
   "metadata": {
    "colab": {
     "base_uri": "https://localhost:8080/"
    },
    "id": "GaDN1Crort3g",
    "outputId": "55cead68-53cf-48b7-b8a0-ec5e043a5101"
   },
   "outputs": [
    {
     "data": {
      "text/plain": [
       "device(type='cuda', index=0)"
      ]
     },
     "execution_count": 5,
     "metadata": {
      "tags": []
     },
     "output_type": "execute_result"
    }
   ],
   "source": [
    "device = torch.device(\"cuda:0\" if torch.cuda.is_available() else \"cpu\")\n",
    "device"
   ]
  },
  {
   "cell_type": "markdown",
   "metadata": {
    "id": "aS0E-ygdrt3g"
   },
   "source": [
    "# Language recognition with an RNN\n",
    "\n",
    "If you've ever used an online translator you've probably seen a feature that automatically detects the input language. While this might be easy to do if you input unicode characters that are unique to one or a small group of languages (like \"你好\" or \"γεια σας\"), this problem is more challenging if the input only uses the available ASCII characters. In this case, something like \"těší mě\" would beome \"tesi me\" in the ascii form. This is a more challenging problem in which the language must be recognized purely by the pattern of characters rather than unique unicode characters.\n",
    "\n",
    "We will train an RNN to solve this problem for a small set of languages thta can be converted to romanized ASCII form. For training data it would be ideal to have a large and varied dataset in different language styles. However, it is easy to find copies of the Bible which is a large text translated to different languages but in the same easily parsable format, so we will use 20 different copies of the Bible as training data. Using the same book for all of the different languages will hopefully prevent minor overfitting that might arise if we used different books for each language (fitting to common characteristics of the individual books rather than the language)."
   ]
  },
  {
   "cell_type": "code",
   "execution_count": 6,
   "metadata": {
    "colab": {
     "base_uri": "https://localhost:8080/"
    },
    "id": "WbiGbUpirt3g",
    "outputId": "93c79efb-17a1-49bd-f1d5-7aa859aa86f7"
   },
   "outputs": [
    {
     "name": "stdout",
     "output_type": "stream",
     "text": [
      "tesi me\n"
     ]
    }
   ],
   "source": [
    "from unidecode import unidecode as unicodeToAscii\n",
    "\n",
    "all_characters = string.printable\n",
    "n_letters = len(all_characters)\n",
    "\n",
    "print(unicodeToAscii('těší mě'))"
   ]
  },
  {
   "cell_type": "code",
   "execution_count": 7,
   "metadata": {
    "id": "cp4Nxoytrt3g"
   },
   "outputs": [],
   "source": [
    "# Read a file and split into lines\n",
    "def readFile(filename):\n",
    "    data = open(filename, encoding='utf-8').read().strip()\n",
    "    return unicodeToAscii(data)\n",
    "\n",
    "def get_category_data(data_path):\n",
    "    # Build the category_data dictionary, a list of names per language\n",
    "    category_data = {}\n",
    "    all_categories = []\n",
    "    for filename in glob.glob(data_path):\n",
    "        category = os.path.splitext(os.path.basename(filename))[0].split('_')[0]\n",
    "        all_categories.append(category)\n",
    "        data = readFile(filename)\n",
    "        category_data[category] = data\n",
    "    \n",
    "    return category_data, all_categories"
   ]
  },
  {
   "cell_type": "markdown",
   "metadata": {
    "id": "p4mpe1CErt3g"
   },
   "source": [
    "The original text is split into two parts, train and test, so that we can make sure that the model is not simply memorizing the train data."
   ]
  },
  {
   "cell_type": "code",
   "execution_count": 8,
   "metadata": {
    "colab": {
     "base_uri": "https://localhost:8080/"
    },
    "id": "Ikt1UdVHrt3h",
    "outputId": "0393472a-043a-4f12-da42-9b7609455098"
   },
   "outputs": [
    {
     "name": "stdout",
     "output_type": "stream",
     "text": [
      "20\n",
      "['vietnamese', 'swedish', 'lithuanian', 'german', 'turkish', 'czech', 'finnish', 'esperanto', 'norwegian', 'xhosa', 'hungarian', 'french', 'english', 'italian', 'romanian', 'danish', 'albanian', 'maori', 'spanish', 'portuguese']\n"
     ]
    }
   ],
   "source": [
    "train_data_path = 'language_data/train/*_train.txt'\n",
    "test_data_path = 'language_data/test/*_test.txt'\n",
    "\n",
    "train_category_data, all_categories = get_category_data(train_data_path)\n",
    "test_category_data, test_all_categories = get_category_data(test_data_path)\n",
    "\n",
    "n_languages = len(all_categories)\n",
    "\n",
    "print(len(all_categories))\n",
    "print(all_categories)"
   ]
  },
  {
   "cell_type": "markdown",
   "metadata": {
    "id": "XwnUSu0grt3h"
   },
   "source": [
    "# Data processing"
   ]
  },
  {
   "cell_type": "code",
   "execution_count": 9,
   "metadata": {
    "id": "GUJfuRy0rt3h"
   },
   "outputs": [],
   "source": [
    "def categoryFromOutput(output):\n",
    "    top_n, top_i = output.topk(1, dim=1)\n",
    "    category_i = top_i[:, 0]\n",
    "    return category_i\n",
    "\n",
    "# Turn string into long tensor\n",
    "def stringToTensor(string):\n",
    "    tensor = torch.zeros(len(string), requires_grad=True).long()\n",
    "    for c in range(len(string)):\n",
    "        tensor[c] = all_characters.index(string[c])\n",
    "    return tensor\n",
    "\n",
    "def load_random_batch(text, chunk_len, batch_size):\n",
    "    input_data = torch.zeros(batch_size, chunk_len).long().to(device)\n",
    "    target = torch.zeros(batch_size, 1).long().to(device)\n",
    "    input_text = []\n",
    "    for i in range(batch_size):\n",
    "        category = all_categories[random.randint(0, len(all_categories) - 1)]\n",
    "        line_start = random.randint(0, len(text[category])-chunk_len)\n",
    "        category_tensor = torch.tensor([all_categories.index(category)], dtype=torch.long)\n",
    "        line = text[category][line_start:line_start+chunk_len]\n",
    "        input_text.append(line)\n",
    "        input_data[i] = stringToTensor(line)\n",
    "        target[i] = category_tensor\n",
    "    return input_data, target, input_text"
   ]
  },
  {
   "cell_type": "markdown",
   "metadata": {
    "id": "_My0DMCFrt3h"
   },
   "source": [
    "Implement Model\n",
    "====================\n",
    "\n",
    "For this classification task, we can use the same model we implement for the generation task which is located in `rnn/model.py`. See the `MP4_P2_generation.ipynb` notebook for more instructions. In this case each output vector of our RNN will have the dimension of the number of possible languages (i.e. `n_languages`). We will use this vector to predict a distribution over the languages.\n",
    "\n",
    "In the generation task, we used the output of the RNN at every time step to predict the next letter and our loss included the output from each of these predictions. However, in this task we use the output of the RNN at the end of the sequence to predict the language, so our loss function will use only the predicted output from the last time step.\n",
    "\n"
   ]
  },
  {
   "cell_type": "markdown",
   "metadata": {
    "id": "7M9zAtstrt3h"
   },
   "source": [
    "# Train RNN"
   ]
  },
  {
   "cell_type": "code",
   "execution_count": 10,
   "metadata": {
    "id": "92-AMhgprt3h"
   },
   "outputs": [],
   "source": [
    "from rnn.model import RNN"
   ]
  },
  {
   "cell_type": "code",
   "execution_count": 11,
   "metadata": {
    "id": "HQY1jccnrt3h"
   },
   "outputs": [],
   "source": [
    "chunk_len = 20\n",
    "\n",
    "BATCH_SIZE = 200\n",
    "n_epochs = 2000\n",
    "hidden_size = 150\n",
    "n_layers = 4\n",
    "learning_rate = 0.001\n",
    "model_type = 'gru'\n",
    "\n",
    "criterion = nn.CrossEntropyLoss()\n",
    "rnn = RNN(n_letters, hidden_size, n_languages, model_type=model_type, n_layers=n_layers).to(device)"
   ]
  },
  {
   "cell_type": "markdown",
   "metadata": {
    "id": "0n2K6S-Xrt3h"
   },
   "source": [
    "**TODO:** Fill in the train function. You should initialize a hidden layer representation using your RNN's `init_hidden` function, set the model gradients to zero, and loop over each time step (character) in the input tensor. For each time step compute the output of the of the RNN and the next hidden layer representation. The cross entropy loss should be computed over the last RNN output scores from the end of the sequence and the target classification tensor. Lastly, call backward on the loss and take an optimizer step."
   ]
  },
  {
   "cell_type": "code",
   "execution_count": 12,
   "metadata": {
    "id": "yDT9-f7Drt3h"
   },
   "outputs": [],
   "source": [
    "def train(rnn, target_tensor, data_tensor, optimizer, criterion, batch_size=BATCH_SIZE):\n",
    "    \"\"\"\n",
    "    Inputs:\n",
    "    - rnn: model\n",
    "    - target_target: target character data tensor of shape (batch_size, 1)\n",
    "    - data_tensor: input character data tensor of shape (batch_size, chunk_len)\n",
    "    - optimizer: rnn model optimizer\n",
    "    - criterion: loss function\n",
    "    - batch_size: data batch size\n",
    "    \n",
    "    Returns:\n",
    "    - output: output from RNN from end of sequence \n",
    "    - loss: computed loss value as python float\n",
    "    \n",
    "    \"\"\"\n",
    "    \n",
    "    output, loss = None, None\n",
    "    \n",
    "    ####################################\n",
    "    #          YOUR CODE HERE          #\n",
    "    ####################################\n",
    "    batch_size = data_tensor.shape[0]\n",
    "    hidden = rnn.init_hidden(batch_size, device)\n",
    "    rnn.zero_grad()\n",
    "\n",
    "    input = data_tensor.to(device)\n",
    "    target = target_tensor.to(device)\n",
    "\n",
    "    for c in range(chunk_len):\n",
    "        output, hidden = rnn(input[:, c], hidden)\n",
    "   \n",
    "    loss = criterion(output, target.squeeze())\n",
    "\n",
    "    loss.backward()\n",
    "    optimizer.step()\n",
    "    \n",
    "\n",
    "    return output, loss.item()\n",
    "\n",
    "    ##########       END      ##########\n",
    "\n",
    "    "
   ]
  },
  {
   "cell_type": "code",
   "execution_count": 13,
   "metadata": {
    "id": "Xpk85L1drt3h"
   },
   "outputs": [],
   "source": [
    "def evaluate(rnn, data_tensor, seq_len=chunk_len, batch_size=BATCH_SIZE):\n",
    "    with torch.no_grad():\n",
    "        data_tensor = data_tensor.to(device)\n",
    "        hidden = rnn.init_hidden(batch_size, device=device)\n",
    "        for i in range(seq_len):\n",
    "            output, hidden = rnn(data_tensor[:,i], hidden)\n",
    "        \n",
    "        return output\n",
    "    \n",
    "def eval_test(rnn, category_tensor, data_tensor):\n",
    "    with torch.no_grad():\n",
    "        output = evaluate(rnn, data_tensor)\n",
    "        loss = criterion(output, category_tensor.squeeze())\n",
    "        return output, loss.item()"
   ]
  },
  {
   "cell_type": "code",
   "execution_count": 14,
   "metadata": {
    "colab": {
     "base_uri": "https://localhost:8080/"
    },
    "id": "yZ8zOX0Hrt3h",
    "outputId": "28984dfd-3471-45a9-d0d7-9fc61323481b",
    "scrolled": true
   },
   "outputs": [
    {
     "name": "stdout",
     "output_type": "stream",
     "text": [
      "50 2% (0m 3s) 1.9400 1.8702 popolon Izrael Via p / lithuanian ✗ (esperanto)\n",
      "Train accuracy: 0.2535\n",
      "100 5% (0m 7s) 1.4231 1.3373 ydular. Ondan kacip  / turkish ✓\n",
      "Train accuracy: 0.4483\n",
      "150 7% (0m 11s) 1.0536 0.9545  di vino: e un sacri / italian ✓\n",
      "Train accuracy: 0.5682\n",
      "200 10% (0m 15s) 0.9624 0.8603 rfaras dig eller ick / german ✗ (swedish)\n",
      "Train accuracy: 0.6449\n",
      "250 12% (0m 19s) 1.1198 1.0164 vat unohtaneet varat / finnish ✓\n",
      "Train accuracy: 0.6963\n",
      "300 15% (0m 23s) 0.6996 0.6553 vet von Jeremias, es / french ✗ (hungarian)\n",
      "Train accuracy: 0.733\n",
      "350 17% (0m 26s) 0.8235 0.7369 nesnese ohen, proper / french ✗ (czech)\n",
      "Train accuracy: 0.7694\n",
      "400 20% (0m 30s) 0.6780 0.5895 u ingoa a muri ake n / maori ✓\n",
      "Train accuracy: 0.7784\n",
      "450 22% (0m 34s) 0.6549 0.6083 oti barbatii ei de r / lithuanian ✗ (romanian)\n",
      "Train accuracy: 0.7949\n",
      "500 25% (0m 38s) 0.5768 0.4974  mur jashte qytetit  / albanian ✓\n",
      "Train accuracy: 0.8141\n",
      "550 27% (0m 42s) 0.6547 0.5897 ge de git o piatra m / portuguese ✗ (romanian)\n",
      "Train accuracy: 0.8274\n",
      "600 30% (0m 46s) 0.4469 0.4033 m duoc su huy diet d / vietnamese ✓\n",
      "Train accuracy: 0.823\n",
      "650 32% (0m 50s) 0.3502 0.3086 aksiniz. Amalekliler / turkish ✓\n",
      "Train accuracy: 0.84\n",
      "700 35% (0m 54s) 0.4023 0.3652 shtu thote Zoti: \"Me / albanian ✓\n",
      "Train accuracy: 0.848\n",
      "750 37% (0m 58s) 0.3976 0.3597  annee du roi Jerobo / french ✓\n",
      "Train accuracy: 0.8609\n",
      "800 40% (1m 2s) 0.3869 0.3353  kotuluk icin.>> Rab / turkish ✓\n",
      "Train accuracy: 0.8546\n",
      "850 42% (1m 6s) 0.2645 0.2415 oi palvelijoille: \"T / finnish ✓\n",
      "Train accuracy: 0.8627\n",
      "900 45% (1m 10s) 0.4169 0.3625 n tyotehtavia varten / finnish ✓\n",
      "Train accuracy: 0.8664\n",
      "950 47% (1m 14s) 0.3483 0.3170 il es verwustet ist, / german ✓\n",
      "Train accuracy: 0.8754\n",
      "1000 50% (1m 17s) 0.4029 0.3585 m att skaffa fram va / swedish ✓\n",
      "Train accuracy: 0.8801\n",
      "1050 52% (1m 22s) 0.3263 0.3106 ro loro Sichem, citt / italian ✓\n",
      "Train accuracy: 0.8833\n",
      "1100 55% (1m 25s) 0.3287 0.2814 yad kozott is volt [ / hungarian ✓\n",
      "Train accuracy: 0.8878\n",
      "1150 57% (1m 29s) 0.2646 0.2322 sua obra. Entao o re / portuguese ✓\n",
      "Train accuracy: 0.8929\n",
      "1200 60% (1m 33s) 0.2893 0.2561  shpirtrat tuaj\". Po / albanian ✓\n",
      "Train accuracy: 0.8945\n",
      "1250 62% (1m 37s) 0.3267 0.2952 en lyde rundt omkrin / danish ✗ (norwegian)\n",
      "Train accuracy: 0.8949\n",
      "1300 65% (1m 41s) 0.2467 0.2208  i sin herres, egypt / norwegian ✗ (swedish)\n",
      "Train accuracy: 0.9009\n",
      "1350 67% (1m 45s) 0.2966 0.2692 vanya. Wathi, Ukuba  / xhosa ✓\n",
      "Train accuracy: 0.9014\n",
      "1400 70% (1m 49s) 0.2009 0.1780 e lam cho sach moi s / vietnamese ✓\n",
      "Train accuracy: 0.9089\n",
      "1450 72% (1m 53s) 0.3218 0.2627 kunzi zezimvu, zenzi / xhosa ✓\n",
      "Train accuracy: 0.9119\n",
      "1500 75% (1m 57s) 0.2498 0.2256 a. Tu fondasti ab an / czech ✗ (italian)\n",
      "Train accuracy: 0.9083\n",
      "1550 77% (2m 1s) 0.2344 0.2043 u usle makk, du Isra / swedish ✗ (norwegian)\n",
      "Train accuracy: 0.912\n",
      "1600 80% (2m 5s) 0.2897 0.2397  Izraelen Samariaban / hungarian ✓\n",
      "Train accuracy: 0.9175\n",
      "1650 82% (2m 9s) 0.1864 0.1681 oe. P Ko te kupu a I / maori ✓\n",
      "Train accuracy: 0.9132\n",
      "1700 85% (2m 13s) 0.2189 0.2018 a, levati, o Eterno, / portuguese ✗ (italian)\n",
      "Train accuracy: 0.9128\n",
      "1750 87% (2m 17s) 0.2948 0.2364 areva un trono; e su / italian ✓\n",
      "Train accuracy: 0.9194\n",
      "1800 90% (2m 21s) 0.2209 0.1896 stol es eroszaktol m / hungarian ✓\n",
      "Train accuracy: 0.9189\n",
      "1850 92% (2m 24s) 0.1778 0.1514 i sera dans sa main  / french ✓\n",
      "Train accuracy: 0.9166\n",
      "1900 95% (2m 28s) 0.2709 0.2258 i? Dhe po te ndodhe  / albanian ✓\n",
      "Train accuracy: 0.9246\n",
      "1950 97% (2m 32s) 0.1943 0.1592 sprit, lorsque vous  / french ✓\n",
      "Train accuracy: 0.922\n",
      "2000 100% (2m 36s) 0.1476 0.1244 av menneskehender, s / norwegian ✓\n",
      "Train accuracy: 0.9283\n"
     ]
    }
   ],
   "source": [
    "n_iters = 2000 #100000\n",
    "print_every = 50\n",
    "plot_every = 50\n",
    "\n",
    "\n",
    "# Keep track of losses for plotting\n",
    "current_loss = 0\n",
    "current_test_loss = 0\n",
    "all_losses = []\n",
    "all_test_losses = []\n",
    "\n",
    "start = time.time()\n",
    "\n",
    "optimizer = torch.optim.Adam(rnn.parameters(), lr=learning_rate)\n",
    "\n",
    "\n",
    "number_correct = 0\n",
    "for iter in range(1, n_iters + 1):\n",
    "    input_data, target_category, text_data = load_random_batch(train_category_data, chunk_len, BATCH_SIZE)\n",
    "    output, loss = train(rnn, target_category, input_data, optimizer, criterion)\n",
    "    current_loss += loss\n",
    "    \n",
    "    _, test_loss = eval_test(rnn, target_category, input_data)\n",
    "    current_test_loss += test_loss\n",
    "    \n",
    "    guess_i = categoryFromOutput(output)\n",
    "    number_correct += (target_category.squeeze()==guess_i.squeeze()).long().sum()\n",
    "    \n",
    "    # Print iter number, loss, name and guess\n",
    "    if iter % print_every == 0:\n",
    "        sample_idx = 0\n",
    "        guess = all_categories[guess_i[sample_idx]]\n",
    "        \n",
    "        category = all_categories[int(target_category[sample_idx])]\n",
    "        \n",
    "        correct = '✓' if guess == category else '✗ (%s)' % category\n",
    "        print('%d %d%% (%s) %.4f %.4f %s / %s %s' % (iter, iter / n_iters * 100, time_since(start), loss, test_loss, text_data[sample_idx], guess, correct))\n",
    "        print('Train accuracy: {}'.format(float(number_correct)/float(print_every*BATCH_SIZE)))\n",
    "        number_correct = 0\n",
    "    \n",
    "    # Add current loss avg to list of losses\n",
    "    if iter % plot_every == 0:\n",
    "        all_losses.append(current_loss / plot_every)\n",
    "        current_loss = 0\n",
    "        all_test_losses.append(current_test_loss / plot_every)\n",
    "        current_test_loss = 0"
   ]
  },
  {
   "cell_type": "markdown",
   "metadata": {
    "id": "LHP8FiSSrt3h"
   },
   "source": [
    "Plot loss functions\n",
    "--------------------\n",
    "\n"
   ]
  },
  {
   "cell_type": "code",
   "execution_count": 15,
   "metadata": {
    "colab": {
     "base_uri": "https://localhost:8080/",
     "height": 281
    },
    "id": "OFGmgmukrt3h",
    "outputId": "90d4a7ee-89fa-48c9-b987-6cb903cd547b",
    "scrolled": true
   },
   "outputs": [
    {
     "data": {
      "text/plain": [
       "[<matplotlib.lines.Line2D at 0x7f1dd4cc2550>]"
      ]
     },
     "execution_count": 15,
     "metadata": {
      "tags": []
     },
     "output_type": "execute_result"
    },
    {
     "data": {
      "image/png": "[encoded data removed]",
      "text/plain": [
       "<Figure size 432x288 with 1 Axes>"
      ]
     },
     "metadata": {
      "needs_background": "light",
      "tags": []
     },
     "output_type": "display_data"
    }
   ],
   "source": [
    "import matplotlib.pyplot as plt\n",
    "import matplotlib.ticker as ticker\n",
    "\n",
    "plt.figure()\n",
    "plt.plot(all_losses, color='b')\n",
    "plt.plot(all_test_losses, color='r')"
   ]
  },
  {
   "cell_type": "markdown",
   "metadata": {
    "id": "vzpwyIACrt3h"
   },
   "source": [
    "Evaluate results\n",
    "-------------------\n",
    "\n",
    "We now vizualize the performance of our model by creating a confusion matrix. The ground truth languages of samples are represented by rows in the matrix while the predicted languages are represented by columns.\n",
    "\n",
    "In this evaluation we consider sequences of variable sizes rather than the fixed length sequences we used for training."
   ]
  },
  {
   "cell_type": "code",
   "execution_count": 16,
   "metadata": {
    "colab": {
     "base_uri": "https://localhost:8080/",
     "height": 336
    },
    "id": "eGgXJKevrt3h",
    "outputId": "c0cad71e-fd11-4149-bcbe-e561f5a69102"
   },
   "outputs": [
    {
     "name": "stdout",
     "output_type": "stream",
     "text": [
      "Test accuracy:  0.919\n"
     ]
    },
    {
     "data": {
      "image/png": "[encoded data removed]",
      "text/plain": [
       "<Figure size 432x288 with 2 Axes>"
      ]
     },
     "metadata": {
      "needs_background": "light",
      "tags": []
     },
     "output_type": "display_data"
    }
   ],
   "source": [
    "eval_batch_size = 1  # needs to be set to 1 for evaluating different sequence lengths\n",
    "\n",
    "# Keep track of correct guesses in a confusion matrix\n",
    "confusion = torch.zeros(n_languages, n_languages)\n",
    "n_confusion = 1000\n",
    "num_correct = 0\n",
    "total = 0\n",
    "\n",
    "for i in range(n_confusion):\n",
    "    eval_chunk_len = random.randint(10, 50) # in evaluation we will look at sequences of variable sizes\n",
    "    input_data, target_category, text_data = load_random_batch(test_category_data, chunk_len=eval_chunk_len, batch_size=eval_batch_size)\n",
    "    output = evaluate(rnn, input_data, seq_len=eval_chunk_len, batch_size=eval_batch_size)\n",
    "    \n",
    "    guess_i = categoryFromOutput(output)\n",
    "    category_i = [int(target_category[idx]) for idx in range(len(target_category))]\n",
    "    for j in range(eval_batch_size):\n",
    "        category = all_categories[category_i[j]] \n",
    "        confusion[category_i[j]][guess_i[j]] += 1\n",
    "        num_correct += int(guess_i[j]==category_i[j])\n",
    "        total += 1\n",
    "\n",
    "print('Test accuracy: ', float(num_correct)/float(n_confusion*eval_batch_size))\n",
    "\n",
    "# Normalize by dividing every row by its sum\n",
    "for i in range(n_languages):\n",
    "    confusion[i] = confusion[i] / confusion[i].sum()\n",
    "\n",
    "# Set up plot\n",
    "fig = plt.figure()\n",
    "ax = fig.add_subplot(111)\n",
    "cax = ax.matshow(confusion.numpy())\n",
    "fig.colorbar(cax)\n",
    "\n",
    "# Set up axes\n",
    "ax.set_xticklabels([''] + all_categories, rotation=90)\n",
    "ax.set_yticklabels([''] + all_categories)\n",
    "\n",
    "# Force label at every tick\n",
    "ax.xaxis.set_major_locator(ticker.MultipleLocator(1))\n",
    "ax.yaxis.set_major_locator(ticker.MultipleLocator(1))\n",
    "\n",
    "plt.show()"
   ]
  },
  {
   "cell_type": "markdown",
   "metadata": {
    "id": "xWcB4Jwtrt3h"
   },
   "source": [
    "You can pick out bright spots off the main axis that show which\n",
    "languages it guesses incorrectly.\n",
    "\n",
    "\n"
   ]
  },
  {
   "cell_type": "markdown",
   "metadata": {
    "id": "fc-u20mDrt3h"
   },
   "source": [
    "Run on User Input\n",
    "---------------------\n",
    "\n",
    "Now you can test your model on your own input. \n"
   ]
  },
  {
   "cell_type": "code",
   "execution_count": 17,
   "metadata": {
    "colab": {
     "base_uri": "https://localhost:8080/"
    },
    "id": "jzln5qDQrt3h",
    "outputId": "38b5d9c1-17a9-4351-c58b-b7b5266bbf01"
   },
   "outputs": [
    {
     "name": "stdout",
     "output_type": "stream",
     "text": [
      "\n",
      "> guten morgen\n",
      "(6.45) swedish\n",
      "(5.64) norwegian\n",
      "(4.04) german\n",
      "(3.78) danish\n",
      "(1.70) english\n"
     ]
    }
   ],
   "source": [
    "def predict(input_line, n_predictions=5):\n",
    "    print('\\n> %s' % input_line)\n",
    "    with torch.no_grad():\n",
    "        input_data = stringToTensor(input_line).long().unsqueeze(0).to(device)\n",
    "        output = evaluate(rnn, input_data, seq_len=len(input_line), batch_size=1)\n",
    "\n",
    "    # Get top N categories\n",
    "    topv, topi = output.topk(n_predictions, dim=1)\n",
    "    predictions = []\n",
    "\n",
    "    for i in range(n_predictions):\n",
    "        topv.shape\n",
    "        topi.shape\n",
    "        value = topv[0][i].item()\n",
    "        category_index = topi[0][i].item()\n",
    "        print('(%.2f) %s' % (value, all_categories[category_index]))\n",
    "        predictions.append([value, all_categories[category_index]])\n",
    "\n",
    "predict('guten morgen')\n"
   ]
  },
  {
   "cell_type": "markdown",
   "metadata": {
    "id": "1HytYhiert3h"
   },
   "source": [
    "# Output Kaggle submission file\n",
    "\n",
    "Once you have found a good set of hyperparameters submit the output of your model on the Kaggle test file."
   ]
  },
  {
   "cell_type": "code",
   "execution_count": 18,
   "metadata": {
    "id": "OpPax9WLrt3h"
   },
   "outputs": [],
   "source": [
    "### DO NOT CHANGE KAGGLE SUBMISSION CODE ####\n",
    "import csv\n",
    "\n",
    "kaggle_test_file_path = 'language_data/kaggle_rnn_language_classification_test.txt'\n",
    "with open(kaggle_test_file_path, 'r') as f:\n",
    "    lines = f.readlines()\n",
    "\n",
    "output_rows = []\n",
    "for i, line in enumerate(lines):\n",
    "    sample = line.rstrip()\n",
    "    sample_chunk_len = len(sample)\n",
    "    input_data = stringToTensor(sample).unsqueeze(0)\n",
    "    output = evaluate(rnn, input_data, seq_len=sample_chunk_len, batch_size=1)\n",
    "    guess_i = categoryFromOutput(output)\n",
    "    output_rows.append((str(i+1), all_categories[guess_i]))\n",
    "\n",
    "submission_file_path = 'kaggle_rnn_submission.txt'\n",
    "with open(submission_file_path, 'w') as f:\n",
    "    output_rows = [('id', 'category')] + output_rows\n",
    "    writer = csv.writer(f)\n",
    "    writer.writerows(output_rows)\n"
   ]
  }
 ],
 "metadata": {
  "accelerator": "GPU",
  "colab": {
   "collapsed_sections": [],
   "name": "MP4_P2_classification.ipynb",
   "provenance": [],
   "toc_visible": true
  },
  "kernelspec": {
   "display_name": "Python 3",
   "language": "python",
   "name": "python3"
  },
  "language_info": {
   "codemirror_mode": {
    "name": "ipython",
    "version": 3
   },
   "file_extension": ".py",
   "mimetype": "text/x-python",
   "name": "python",
   "nbconvert_exporter": "python",
   "pygments_lexer": "ipython3",
   "version": "3.8.6"
  }
 },
 "nbformat": 4,
 "nbformat_minor": 1
}
